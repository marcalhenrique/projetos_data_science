{
 "cells": [
  {
   "cell_type": "markdown",
   "metadata": {},
   "source": [
    "# Relatório 1"
   ]
  },
  {
   "cell_type": "markdown",
   "metadata": {},
   "source": [
    "## Lista de Tarefas"
   ]
  },
  {
   "cell_type": "markdown",
   "metadata": {},
   "source": [
    "1. Analisar os tipos de dados e o número de registros do banco de dados.\n",
    "2. Criar um banco com os registros nulos.\n",
    "3. Retirar os registros nulos do banco.\n",
    "4. Criar algum meio de visualização da quantidade de imoveis com o seu tipo."
   ]
  },
  {
   "cell_type": "markdown",
   "metadata": {},
   "source": [
    "## 1 - Análise do Data-base"
   ]
  },
  {
   "cell_type": "code",
   "execution_count": 13,
   "metadata": {},
   "outputs": [],
   "source": [
    "# Importando as bibliotecas\n",
    "import pandas as pd\n",
    "import seaborn as sns"
   ]
  },
  {
   "cell_type": "code",
   "execution_count": 14,
   "metadata": {},
   "outputs": [],
   "source": [
    "# Importando o database\n",
    "# O separador padrão do csv é a ',' neste caso o database veio com a separação por ';'\n",
    "# Foi usado o parametro sep = ';' para organização dos dados\n",
    "dados = pd.read_csv('dbs/aluguel.csv', sep = ';')\n"
   ]
  },
  {
   "cell_type": "code",
   "execution_count": 15,
   "metadata": {},
   "outputs": [
    {
     "data": {
      "text/html": [
       "<div>\n",
       "<style scoped>\n",
       "    .dataframe tbody tr th:only-of-type {\n",
       "        vertical-align: middle;\n",
       "    }\n",
       "\n",
       "    .dataframe tbody tr th {\n",
       "        vertical-align: top;\n",
       "    }\n",
       "\n",
       "    .dataframe thead th {\n",
       "        text-align: right;\n",
       "    }\n",
       "</style>\n",
       "<table border=\"1\" class=\"dataframe\">\n",
       "  <thead>\n",
       "    <tr style=\"text-align: right;\">\n",
       "      <th></th>\n",
       "      <th>Tipo</th>\n",
       "      <th>Bairro</th>\n",
       "      <th>Quartos</th>\n",
       "      <th>Vagas</th>\n",
       "      <th>Suites</th>\n",
       "      <th>Area</th>\n",
       "      <th>Valor</th>\n",
       "      <th>Condominio</th>\n",
       "      <th>IPTU</th>\n",
       "    </tr>\n",
       "  </thead>\n",
       "  <tbody>\n",
       "    <tr>\n",
       "      <th>0</th>\n",
       "      <td>Quitinete</td>\n",
       "      <td>Copacabana</td>\n",
       "      <td>1</td>\n",
       "      <td>0</td>\n",
       "      <td>0</td>\n",
       "      <td>40</td>\n",
       "      <td>1700.0</td>\n",
       "      <td>500.0</td>\n",
       "      <td>60.0</td>\n",
       "    </tr>\n",
       "    <tr>\n",
       "      <th>1</th>\n",
       "      <td>Casa</td>\n",
       "      <td>Jardim Botânico</td>\n",
       "      <td>2</td>\n",
       "      <td>0</td>\n",
       "      <td>1</td>\n",
       "      <td>100</td>\n",
       "      <td>7000.0</td>\n",
       "      <td>NaN</td>\n",
       "      <td>NaN</td>\n",
       "    </tr>\n",
       "    <tr>\n",
       "      <th>2</th>\n",
       "      <td>Conjunto Comercial/Sala</td>\n",
       "      <td>Barra da Tijuca</td>\n",
       "      <td>0</td>\n",
       "      <td>4</td>\n",
       "      <td>0</td>\n",
       "      <td>150</td>\n",
       "      <td>5200.0</td>\n",
       "      <td>4020.0</td>\n",
       "      <td>1111.0</td>\n",
       "    </tr>\n",
       "    <tr>\n",
       "      <th>3</th>\n",
       "      <td>Apartamento</td>\n",
       "      <td>Centro</td>\n",
       "      <td>1</td>\n",
       "      <td>0</td>\n",
       "      <td>0</td>\n",
       "      <td>15</td>\n",
       "      <td>800.0</td>\n",
       "      <td>390.0</td>\n",
       "      <td>20.0</td>\n",
       "    </tr>\n",
       "    <tr>\n",
       "      <th>4</th>\n",
       "      <td>Apartamento</td>\n",
       "      <td>Higienópolis</td>\n",
       "      <td>1</td>\n",
       "      <td>0</td>\n",
       "      <td>0</td>\n",
       "      <td>48</td>\n",
       "      <td>800.0</td>\n",
       "      <td>230.0</td>\n",
       "      <td>NaN</td>\n",
       "    </tr>\n",
       "  </tbody>\n",
       "</table>\n",
       "</div>"
      ],
      "text/plain": [
       "                      Tipo           Bairro  Quartos  Vagas  Suites  Area  \\\n",
       "0                Quitinete       Copacabana        1      0       0    40   \n",
       "1                     Casa  Jardim Botânico        2      0       1   100   \n",
       "2  Conjunto Comercial/Sala  Barra da Tijuca        0      4       0   150   \n",
       "3              Apartamento           Centro        1      0       0    15   \n",
       "4              Apartamento     Higienópolis        1      0       0    48   \n",
       "\n",
       "    Valor  Condominio    IPTU  \n",
       "0  1700.0       500.0    60.0  \n",
       "1  7000.0         NaN     NaN  \n",
       "2  5200.0      4020.0  1111.0  \n",
       "3   800.0       390.0    20.0  \n",
       "4   800.0       230.0     NaN  "
      ]
     },
     "execution_count": 15,
     "metadata": {},
     "output_type": "execute_result"
    }
   ],
   "source": [
    "dados.head()\n",
    "# Os imoveis são dividos em seus tipos, bairro, quartos, vagas, suites, area, valor, condominio, iptu"
   ]
  },
  {
   "cell_type": "code",
   "execution_count": 16,
   "metadata": {},
   "outputs": [
    {
     "name": "stdout",
     "output_type": "stream",
     "text": [
      "Tipos dos dados do banco de dados:\n",
      "Tipo           object\n",
      "Bairro         object\n",
      "Quartos         int64\n",
      "Vagas           int64\n",
      "Suites          int64\n",
      "Area            int64\n",
      "Valor         float64\n",
      "Condominio    float64\n",
      "IPTU          float64\n",
      "dtype: object\n",
      "----------------------------------------------------------\n",
      "Quantidades dos tipos de dados da tabela:\n",
      "int64      4\n",
      "float64    3\n",
      "object     2\n",
      "dtype: int64\n"
     ]
    }
   ],
   "source": [
    "# Análise do tipo dos dados\n",
    "print('Tipos dos dados do banco de dados:')\n",
    "print(dados.dtypes)\n",
    "print('----------------------------------------------------------')\n",
    "print('Quantidades dos tipos de dados da tabela:')\n",
    "print(dados.dtypes.value_counts())"
   ]
  },
  {
   "cell_type": "code",
   "execution_count": 17,
   "metadata": {},
   "outputs": [
    {
     "name": "stdout",
     "output_type": "stream",
     "text": [
      "Quantidade de registros no banco: 32960 \n",
      "Quantidade de colunas no banco: 9\n"
     ]
    }
   ],
   "source": [
    "# Quantidade de registros e registros nulos presentes na tabela\n",
    "print('Quantidade de registros no banco:', dados.shape[0], '\\nQuantidade de colunas no banco:', dados.shape[1])"
   ]
  },
  {
   "cell_type": "markdown",
   "metadata": {},
   "source": [
    "## 2 - Criando um Data Frame com os registros nulos"
   ]
  },
  {
   "cell_type": "code",
   "execution_count": 18,
   "metadata": {},
   "outputs": [
    {
     "name": "stdout",
     "output_type": "stream",
     "text": [
      "Colunas com registros nulos:\n",
      "Tipo              0\n",
      "Bairro            0\n",
      "Quartos           0\n",
      "Vagas             0\n",
      "Suites            0\n",
      "Area              0\n",
      "Valor            17\n",
      "Condominio     4093\n",
      "IPTU          10237\n",
      "dtype: int64\n",
      "----------------------------------------------------------\n",
      "Quantidade de dados nulos no data-base: 14347 \n",
      "Quantidade de dados nulos no data-base nulo criado: 14347\n"
     ]
    }
   ],
   "source": [
    "# Quais colunas tem registros nulos\n",
    "qtd_dados_nulos = dados.isna().sum()\n",
    "print('Colunas com registros nulos:')\n",
    "print(qtd_dados_nulos)\n",
    "print('----------------------------------------------------------')\n",
    "# Quantidade de registros nulos presentes\n",
    "qtd_dados_nulos = dados.isna().sum().sum()\n",
    "# Criando um banco com todos os valores nulos\n",
    "db_dados_nulos = dados[dados['IPTU'].isna() | dados['Valor'].isna() | dados['Condominio'].isna()]\n",
    "# Conferindo se os registros nulos batem com o data-base de registros nulos\n",
    "print('Quantidade de dados nulos no data-base:', qtd_dados_nulos, '\\nQuantidade de dados nulos no data-base nulo criado:', db_dados_nulos.isna().sum().sum())"
   ]
  },
  {
   "cell_type": "code",
   "execution_count": 19,
   "metadata": {},
   "outputs": [
    {
     "data": {
      "text/html": [
       "<div>\n",
       "<style scoped>\n",
       "    .dataframe tbody tr th:only-of-type {\n",
       "        vertical-align: middle;\n",
       "    }\n",
       "\n",
       "    .dataframe tbody tr th {\n",
       "        vertical-align: top;\n",
       "    }\n",
       "\n",
       "    .dataframe thead th {\n",
       "        text-align: right;\n",
       "    }\n",
       "</style>\n",
       "<table border=\"1\" class=\"dataframe\">\n",
       "  <thead>\n",
       "    <tr style=\"text-align: right;\">\n",
       "      <th></th>\n",
       "      <th>Tipo</th>\n",
       "      <th>Bairro</th>\n",
       "      <th>Quartos</th>\n",
       "      <th>Vagas</th>\n",
       "      <th>Suites</th>\n",
       "      <th>Area</th>\n",
       "      <th>Valor</th>\n",
       "      <th>Condominio</th>\n",
       "      <th>IPTU</th>\n",
       "    </tr>\n",
       "  </thead>\n",
       "  <tbody>\n",
       "    <tr>\n",
       "      <th>1</th>\n",
       "      <td>Casa</td>\n",
       "      <td>Jardim Botânico</td>\n",
       "      <td>2</td>\n",
       "      <td>0</td>\n",
       "      <td>1</td>\n",
       "      <td>100</td>\n",
       "      <td>7000.0</td>\n",
       "      <td>NaN</td>\n",
       "      <td>NaN</td>\n",
       "    </tr>\n",
       "    <tr>\n",
       "      <th>4</th>\n",
       "      <td>Apartamento</td>\n",
       "      <td>Higienópolis</td>\n",
       "      <td>1</td>\n",
       "      <td>0</td>\n",
       "      <td>0</td>\n",
       "      <td>48</td>\n",
       "      <td>800.0</td>\n",
       "      <td>230.0</td>\n",
       "      <td>NaN</td>\n",
       "    </tr>\n",
       "    <tr>\n",
       "      <th>5</th>\n",
       "      <td>Apartamento</td>\n",
       "      <td>Vista Alegre</td>\n",
       "      <td>3</td>\n",
       "      <td>1</td>\n",
       "      <td>0</td>\n",
       "      <td>70</td>\n",
       "      <td>1200.0</td>\n",
       "      <td>NaN</td>\n",
       "      <td>NaN</td>\n",
       "    </tr>\n",
       "    <tr>\n",
       "      <th>7</th>\n",
       "      <td>Casa de Condomínio</td>\n",
       "      <td>Barra da Tijuca</td>\n",
       "      <td>5</td>\n",
       "      <td>4</td>\n",
       "      <td>5</td>\n",
       "      <td>750</td>\n",
       "      <td>22000.0</td>\n",
       "      <td>NaN</td>\n",
       "      <td>NaN</td>\n",
       "    </tr>\n",
       "    <tr>\n",
       "      <th>8</th>\n",
       "      <td>Casa de Condomínio</td>\n",
       "      <td>Ramos</td>\n",
       "      <td>2</td>\n",
       "      <td>2</td>\n",
       "      <td>0</td>\n",
       "      <td>65</td>\n",
       "      <td>1000.0</td>\n",
       "      <td>NaN</td>\n",
       "      <td>NaN</td>\n",
       "    </tr>\n",
       "  </tbody>\n",
       "</table>\n",
       "</div>"
      ],
      "text/plain": [
       "                 Tipo           Bairro  Quartos  Vagas  Suites  Area    Valor  \\\n",
       "1                Casa  Jardim Botânico        2      0       1   100   7000.0   \n",
       "4         Apartamento     Higienópolis        1      0       0    48    800.0   \n",
       "5         Apartamento     Vista Alegre        3      1       0    70   1200.0   \n",
       "7  Casa de Condomínio  Barra da Tijuca        5      4       5   750  22000.0   \n",
       "8  Casa de Condomínio            Ramos        2      2       0    65   1000.0   \n",
       "\n",
       "   Condominio  IPTU  \n",
       "1         NaN   NaN  \n",
       "4       230.0   NaN  \n",
       "5         NaN   NaN  \n",
       "7         NaN   NaN  \n",
       "8         NaN   NaN  "
      ]
     },
     "execution_count": 19,
     "metadata": {},
     "output_type": "execute_result"
    }
   ],
   "source": [
    "# Visualização do dataframe de dados nulos\n",
    "db_dados_nulos.head()"
   ]
  },
  {
   "cell_type": "markdown",
   "metadata": {},
   "source": [
    "## 3 - Retirando valores nulos do Data-Base"
   ]
  },
  {
   "cell_type": "code",
   "execution_count": 20,
   "metadata": {},
   "outputs": [
    {
     "name": "stdout",
     "output_type": "stream",
     "text": [
      "Quantidade de dados nulos presente no banco: 0\n"
     ]
    }
   ],
   "source": [
    "# Para retirar os valores nulos do banco foi utilizado a função dropisna()\n",
    "dados.dropna(inplace = True)\n",
    "print('Quantidade de dados nulos presente no banco:', dados.isna().sum().sum())"
   ]
  },
  {
   "cell_type": "markdown",
   "metadata": {},
   "source": [
    "## 4 - Mostrar os tipos de imoveis existentes"
   ]
  },
  {
   "cell_type": "code",
   "execution_count": 21,
   "metadata": {},
   "outputs": [
    {
     "name": "stdout",
     "output_type": "stream",
     "text": [
      "Apartamento                    13950\n",
      "Conjunto Comercial/Sala         4527\n",
      "Casa de Condomínio               690\n",
      "Loja/Salão                       549\n",
      "Quitinete                        534\n",
      "Flat                             395\n",
      "Loja Shopping/ Ct Comercial      185\n",
      "Casa                             112\n",
      "Galpão/Depósito/Armazém           61\n",
      "Casa de Vila                      60\n",
      "Loft                              36\n",
      "Casa Comercial                    25\n",
      "Prédio Inteiro                    20\n",
      "Box/Garagem                        5\n",
      "Studio                             2\n",
      "Terreno Padrão                     1\n",
      "Name: Tipo, dtype: int64\n"
     ]
    }
   ],
   "source": [
    "# Quantidade de imoveis que cada tipo possui\n",
    "print(dados['Tipo'].value_counts())\n",
    "aux = dados['Tipo'].value_counts()"
   ]
  },
  {
   "cell_type": "code",
   "execution_count": 22,
   "metadata": {},
   "outputs": [
    {
     "data": {
      "image/png": "[encoded data removed]",
      "text/plain": [
       "<Figure size 2160x360 with 1 Axes>"
      ]
     },
     "metadata": {
      "needs_background": "light"
     },
     "output_type": "display_data"
    }
   ],
   "source": [
    "#Plotagem pelo seaborn\n",
    "# usando o value counts index para fazer a order do menor pro maior\n",
    "indice = dados['Tipo'].value_counts().index\n",
    "plot_tipos = sns.catplot(x = 'Tipo', kind = 'count', data=dados, palette='BuGn', aspect=6, order = indice)\n",
    "plot_tipos.set_ylabels('Quantidade')\n",
    "plot_tipos.set_xlabels('Categoria')\n",
    "plot_tipos.set_titles('Quantidade de imoveis por categoria')\n",
    "plot_tipos = plot_tipos\n"
   ]
  },
  {
   "cell_type": "code",
   "execution_count": 23,
   "metadata": {},
   "outputs": [
    {
     "data": {
      "image/png": "[encoded data removed]",
      "text/plain": [
       "<Figure size 1440x360 with 1 Axes>"
      ]
     },
     "metadata": {
      "needs_background": "light"
     },
     "output_type": "display_data"
    }
   ],
   "source": [
    "# Como a visualização do gráfico inteiro não foi boa, foi feito uma junção dos menores valores e criado um gráfico para as visualizações\n",
    "# valores_menores recebe uma query com valores diferentes de apartamento, conjunto comercial, casa de condominio, lojas, quitinetes etc..\n",
    "valores_menores = dados.query('Tipo != \"Apartamento\" and Tipo != \"Conjunto Comercial/Sala\" and Tipo != \"Casa de Condomínio\" and Tipo != \"Loja/Salão\" and Tipo != \"Quitinete\" and Tipo != \"Flat\" and Tipo != \"Loja Shopping/Ct Comercial\"')\n",
    "# atualizado o valor do indice para a ordem da plotagem\n",
    "indice = valores_menores['Tipo'].value_counts().index\n",
    "# plotagem feita pelo seaborn alterando alguns valores padrões\n",
    "plot_tipos = sns.catplot(x = 'Tipo', kind = 'count', data=valores_menores, palette='BuGn', aspect=4, order = indice)\n",
    "plot_tipos.set_ylabels('Quantidade')\n",
    "plot_tipos.set_xlabels('Categoria')\n",
    "plot_tipos.set_titles('Quantidade de imoveis por categoria')\n",
    "plot_tipos = plot_tipos\n"
   ]
  },
  {
   "cell_type": "markdown",
   "metadata": {},
   "source": [
    "## 5 - Salvando os novos Data-Base"
   ]
  },
  {
   "cell_type": "code",
   "execution_count": 24,
   "metadata": {},
   "outputs": [],
   "source": [
    "# Para salvar os novos bancos criados, é necessário ajustar os indices de ambos para um melhor entendimento do banco em tarefas futuras.\n",
    "# Para ajustar os indices é usado a função reset_index() do pandas\n",
    "db_dados_v2 = dados.reset_index(drop = True) # sem o parametro drop = True, é criado uma nova coluna com o indice antigo.\n",
    "db_dados_v2.to_csv(r'dbs/alugueis_sem_dados_nulos', index = True) # o parametro index = True, escreve a coluna de indice no arquivo csv.\n",
    "db_dados_nulos_v2 = db_dados_nulos.reset_index(drop = True)\n",
    "db_dados_nulos_v2.to_csv(r'dbs/alugueis_dados_nulos', index = True)\n",
    "\n"
   ]
  },
  {
   "cell_type": "markdown",
   "metadata": {},
   "source": [
    "## Conclusão"
   ]
  },
  {
   "cell_type": "markdown",
   "metadata": {},
   "source": [
    "A base de dados tinha o seu separador como `';'`, como arquivos csv o padrão de separação é o `','` foi utilizado o parâmetro `'sep='` para a troca.  \n",
    "Os tipos de dados foram float, object e int.  \n",
    "A quantidade de linhas do banco é de 32960 e de colunas 9.    \n",
    "No seus dados foram retirados os registros nulos e armazenados em um outro banco para registrar os valores que estão faltando. O total de dados nulos retirados foi de 14347.  \n",
    "Para a criação do banco de dados nulos foi usado  a função `'isna()'` do pandas manipulando o banco de dados de acordo.  \n",
    "Depois de armazenados os dados nulos foram retirados do banco, usando a função `'dropna(inplace = True)'`.  \n",
    "Para a visualização gráfica dos tipos de imóveis foi utilizado a biblioteca seaborn com o método de plotagem de categorias.  "
   ]
  }
 ],
 "metadata": {
  "interpreter": {
   "hash": "916dbcbb3f70747c44a77c7bcd40155683ae19c65e1c03b4aa3499c5328201f1"
  },
  "kernelspec": {
   "display_name": "Python 3.8.10 64-bit",
   "language": "python",
   "name": "python3"
  },
  "language_info": {
   "codemirror_mode": {
    "name": "ipython",
    "version": 3
   },
   "file_extension": ".py",
   "mimetype": "text/x-python",
   "name": "python",
   "nbconvert_exporter": "python",
   "pygments_lexer": "ipython3",
   "version": "3.8.10"
  },
  "orig_nbformat": 4
 },
 "nbformat": 4,
 "nbformat_minor": 2
}
